{
 "cells": [
  {
   "cell_type": "markdown",
   "metadata": {},
   "source": [
    "# BepiColombo SPICE Kernel Dataset Status\n",
    "\n",
    "Last updated on 2020-08-03T20:46:58 by Marc Costa Sitja (ESAC/ESA). SKD version: v240_20200803_001\n",
    "\n",
    "\n",
    "## Startup\n",
    "\n",
    "The metakernel is loaded, the scenario covers a week with a finish time set by the end of coverage of the latest Measured Attitude Kernel."
   ]
  },
  {
   "cell_type": "code",
   "execution_count": 1,
   "metadata": {},
   "outputs": [],
   "source": [
    "from spiops import spiops\n",
    "\n",
    "spiops.load('BEPICOLOMBO/kernels/mk/bc_ops_local.tm')               \n",
    "\n",
    "start_time = '2020-07-27T16:57:29'                                      # Start time\n",
    "finish_time ='2020-08-03T16:57:29'  \n",
    "\n",
    "interval = spiops.TimeWindow(start_time, finish_time,resolution=60) # spiops object TimeWindow generated\n",
    "sun = spiops.Target('SUN', time=interval, frame='IAU_SUN')       # spiops object Target Mars generated\n",
    "mpo = spiops.Observer('MPO', time=interval, target=sun)            # spiops object Observer TGO generated\n",
    "mtm = spiops.Observer('MTM', time=interval, target=sun)            # spiops object Observer TGO generated"
   ]
  },
  {
   "cell_type": "markdown",
   "metadata": {},
   "source": [
    "## Coverage\n",
    "\n",
    "The coverage provided by the SPK and CK files is displayed for the Operational and the Planning meta-kernels"
   ]
  },
  {
   "cell_type": "code",
   "execution_count": null,
   "metadata": {},
   "outputs": [],
   "source": [
    "spiops.ck_coverage_timeline('BEPICOLOMBO/kernels/mk/bc_ops_local.tm', 'mpo')"
   ]
  },
  {
   "cell_type": "code",
   "execution_count": null,
   "metadata": {},
   "outputs": [],
   "source": [
    "spiops.spk_coverage_timeline('BEPICOLOMBO/kernels/mk/bc_ops_local.tm', 'mpo')"
   ]
  },
  {
   "cell_type": "markdown",
   "metadata": {},
   "source": [
    "## Attitude Error\n",
    "Comparison of +Z axis orientation between predicted and measured attitude in milidegrees "
   ]
  },
  {
   "cell_type": "code",
   "execution_count": null,
   "metadata": {},
   "outputs": [],
   "source": [
    "measured_ck = 'BEPICOLOMBO/kernels/ck/bc_mpo_sc_scm_20200101_20200803_s20200713_v01.bc'\n",
    "predicted_ck = 'BEPICOLOMBO/kernels/ck/bc_mpo_sc_fsp_00084_20181020_20200908_f20181127_v01.bc'\n",
    "resolution = 16\n",
    "\n",
    "spiops.ckdiff_error(measured_ck, predicted_ck, 'MPO_SPACECRAFT', 'J2000', resolution, 0.001, \n",
    "                    plot_style='circle', utc_start=start_time, utc_finish=finish_time, notebook=True)"
   ]
  },
  {
   "cell_type": "markdown",
   "metadata": {},
   "source": [
    "## S/C Structures Orientation\n",
    "Quaternions, MTM and MPO Solar Array Orientation and Solar Aspect Angle, High Gain Antenna Orientation and HGA boresight-Earth Angle."
   ]
  },
  {
   "cell_type": "code",
   "execution_count": null,
   "metadata": {},
   "outputs": [],
   "source": [
    "mpo.Plot('quaternions', notebook=True)         # MPO Orientation (quaternions w.r.. J2000)"
   ]
  },
  {
   "cell_type": "code",
   "execution_count": null,
   "metadata": {},
   "outputs": [],
   "source": [
    "mpo.Plot('sa_ang', notebook=True)              # MPO Solar Array (SA) Angles"
   ]
  },
  {
   "cell_type": "code",
   "execution_count": null,
   "metadata": {},
   "outputs": [],
   "source": [
    "mtm.Plot('sa_ang', notebook=True)              # MTM Solar Array (SA) Angles"
   ]
  },
  {
   "cell_type": "code",
   "execution_count": null,
   "metadata": {},
   "outputs": [],
   "source": [
    "mpo.Plot('saa_sa', notebook=True)              # MPO SA Solar Aspect Angle"
   ]
  },
  {
   "cell_type": "code",
   "execution_count": null,
   "metadata": {},
   "outputs": [],
   "source": [
    "mtm.Plot('saa_sa', notebook=True)              # MTM SA Solar Aspect Angle"
   ]
  },
  {
   "cell_type": "code",
   "execution_count": null,
   "metadata": {},
   "outputs": [],
   "source": [
    "mpo.Plot('hga_angles', notebook=True)          # MTM High Gain Antenna Angles"
   ]
  },
  {
   "cell_type": "code",
   "execution_count": null,
   "metadata": {},
   "outputs": [],
   "source": [
    "mpo.Plot('hga_earth', notebook=True)           # High Gain Antenna - Earth Angle"
   ]
  },
  {
   "cell_type": "markdown",
   "metadata": {},
   "source": [
    "## S/C Clock Drift \n",
    "\n",
    "The following plot shows the drift of the S/C Clock."
   ]
  },
  {
   "cell_type": "code",
   "execution_count": null,
   "metadata": {},
   "outputs": [],
   "source": [
    "mpo.Plot('clock_drift', notebook=True)   "
   ]
  }
 ],
 "metadata": {
  "kernelspec": {
   "display_name": "Python 3",
   "language": "python",
   "name": "python3"
  },
  "language_info": {
   "codemirror_mode": {
    "name": "ipython",
    "version": 3
   },
   "file_extension": ".py",
   "mimetype": "text/x-python",
   "name": "python",
   "nbconvert_exporter": "python",
   "pygments_lexer": "ipython3",
   "version": "3.6.4"
  }
 },
 "nbformat": 4,
 "nbformat_minor": 2
}
